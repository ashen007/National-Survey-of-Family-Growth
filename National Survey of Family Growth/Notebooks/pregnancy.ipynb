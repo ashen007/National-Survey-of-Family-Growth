{
 "cells": [
  {
   "cell_type": "code",
   "metadata": {
    "collapsed": true,
    "pycharm": {
     "name": "#%%\n"
    }
   },
   "source": [
    "import sys\n",
    "import pandas as pd"
   ],
   "execution_count": 11,
   "outputs": []
  },
  {
   "cell_type": "markdown",
   "source": [
    "## Read data from fix width formatted file"
   ],
   "metadata": {
    "collapsed": false,
    "pycharm": {
     "name": "#%% md\n"
    }
   }
  },
  {
   "cell_type": "code",
   "execution_count": 12,
   "outputs": [],
   "source": [
    "sys.path.insert(0, '..')\n",
    "from Modules.read_fwf import ReadStataDct"
   ],
   "metadata": {
    "collapsed": false,
    "pycharm": {
     "name": "#%%\n"
    }
   }
  },
  {
   "cell_type": "code",
   "execution_count": 13,
   "outputs": [],
   "source": [
    "def ReadFemPreg(dct_file, dat_file):\n",
    "    \"\"\"\n",
    "    reads the NSFG pregnancy data.\n",
    "\n",
    "    :param dct_file: string file name\n",
    "    :param dat_file: string file name\n",
    "    :return: DataFrame\n",
    "    \"\"\"\n",
    "    dct = ReadStataDct(dct_file)\n",
    "    df = dct.ReadFixedWidth(dat_file)\n",
    "\n",
    "    return df"
   ],
   "metadata": {
    "collapsed": false,
    "pycharm": {
     "name": "#%%\n"
    }
   }
  },
  {
   "cell_type": "code",
   "execution_count": 14,
   "outputs": [],
   "source": [
    "pregnancy_data = ReadFemPreg(dct_file='../Data/2017_2019_FemPregSetup.dct',\n",
    "                             dat_file='../Data/2017_2019_FemPregData.dat')"
   ],
   "metadata": {
    "collapsed": false,
    "pycharm": {
     "name": "#%%\n"
    }
   }
  },
  {
   "cell_type": "code",
   "execution_count": 15,
   "outputs": [
    {
     "data": {
      "text/plain": "       caseid  pregordr  moscurrp  pregend1  pregend2  hpageend  kidage  \\\n0       88819         1       NaN       6.0       NaN       NaN     7.0   \n1       88819         2       NaN       5.0       NaN       NaN     6.0   \n2       83055         1       NaN       5.0       NaN       NaN     6.0   \n3       83055         2       NaN       5.0       NaN       NaN     6.0   \n4       92062         1       NaN       6.0       NaN       NaN     7.0   \n...       ...       ...       ...       ...       ...       ...     ...   \n10210   91420         4       NaN       6.0       NaN       NaN     6.0   \n10211   89157         1       NaN       6.0       NaN       NaN     6.0   \n10212   89157         2       NaN       6.0       NaN       NaN     6.0   \n10213   89157         3       NaN       5.0       NaN       NaN     5.0   \n10214   84206         1       NaN       3.0       NaN       2.0     NaN   \n\n       hpagelb  paybirth1  paybirth2  ...  secu  sest  cmintvw  cmlstyr  \\\n0          4.0        NaN        NaN  ...     2   354     1427     1415   \n1          4.0        NaN        NaN  ...     2   354     1427     1415   \n2          4.0        NaN        NaN  ...     2   354     1425     1413   \n3          5.0        NaN        NaN  ...     2   354     1425     1413   \n4          4.0        NaN        NaN  ...     2   354     1426     1414   \n...        ...        ...        ...  ...   ...   ...      ...      ...   \n10210      6.0        NaN        NaN  ...     1   370     1432     1420   \n10211      3.0        NaN        NaN  ...     1   370     1433     1421   \n10212      4.0        NaN        NaN  ...     1   370     1433     1421   \n10213      4.0        1.0        2.0  ...     1   370     1433     1421   \n10214      NaN        NaN        NaN  ...     1   370     1432     1420   \n\n       cmjan3yr  cmjan4yr  cmjan5yr  quarter  phase  intvwyear  \n0          1381      1369      1357       29      1       2018  \n1          1381      1369      1357       29      1       2018  \n2          1381      1369      1357       29      1       2018  \n3          1381      1369      1357       29      1       2018  \n4          1381      1369      1357       29      1       2018  \n...         ...       ...       ...      ...    ...        ...  \n10210      1393      1381      1369       31      1       2019  \n10211      1393      1381      1369       31      1       2019  \n10212      1393      1381      1369       31      1       2019  \n10213      1393      1381      1369       31      1       2019  \n10214      1393      1381      1369       31      1       2019  \n\n[10215 rows x 171 columns]",
      "text/html": "<div>\n<style scoped>\n    .dataframe tbody tr th:only-of-type {\n        vertical-align: middle;\n    }\n\n    .dataframe tbody tr th {\n        vertical-align: top;\n    }\n\n    .dataframe thead th {\n        text-align: right;\n    }\n</style>\n<table border=\"1\" class=\"dataframe\">\n  <thead>\n    <tr style=\"text-align: right;\">\n      <th></th>\n      <th>caseid</th>\n      <th>pregordr</th>\n      <th>moscurrp</th>\n      <th>pregend1</th>\n      <th>pregend2</th>\n      <th>hpageend</th>\n      <th>kidage</th>\n      <th>hpagelb</th>\n      <th>paybirth1</th>\n      <th>paybirth2</th>\n      <th>...</th>\n      <th>secu</th>\n      <th>sest</th>\n      <th>cmintvw</th>\n      <th>cmlstyr</th>\n      <th>cmjan3yr</th>\n      <th>cmjan4yr</th>\n      <th>cmjan5yr</th>\n      <th>quarter</th>\n      <th>phase</th>\n      <th>intvwyear</th>\n    </tr>\n  </thead>\n  <tbody>\n    <tr>\n      <th>0</th>\n      <td>88819</td>\n      <td>1</td>\n      <td>NaN</td>\n      <td>6.0</td>\n      <td>NaN</td>\n      <td>NaN</td>\n      <td>7.0</td>\n      <td>4.0</td>\n      <td>NaN</td>\n      <td>NaN</td>\n      <td>...</td>\n      <td>2</td>\n      <td>354</td>\n      <td>1427</td>\n      <td>1415</td>\n      <td>1381</td>\n      <td>1369</td>\n      <td>1357</td>\n      <td>29</td>\n      <td>1</td>\n      <td>2018</td>\n    </tr>\n    <tr>\n      <th>1</th>\n      <td>88819</td>\n      <td>2</td>\n      <td>NaN</td>\n      <td>5.0</td>\n      <td>NaN</td>\n      <td>NaN</td>\n      <td>6.0</td>\n      <td>4.0</td>\n      <td>NaN</td>\n      <td>NaN</td>\n      <td>...</td>\n      <td>2</td>\n      <td>354</td>\n      <td>1427</td>\n      <td>1415</td>\n      <td>1381</td>\n      <td>1369</td>\n      <td>1357</td>\n      <td>29</td>\n      <td>1</td>\n      <td>2018</td>\n    </tr>\n    <tr>\n      <th>2</th>\n      <td>83055</td>\n      <td>1</td>\n      <td>NaN</td>\n      <td>5.0</td>\n      <td>NaN</td>\n      <td>NaN</td>\n      <td>6.0</td>\n      <td>4.0</td>\n      <td>NaN</td>\n      <td>NaN</td>\n      <td>...</td>\n      <td>2</td>\n      <td>354</td>\n      <td>1425</td>\n      <td>1413</td>\n      <td>1381</td>\n      <td>1369</td>\n      <td>1357</td>\n      <td>29</td>\n      <td>1</td>\n      <td>2018</td>\n    </tr>\n    <tr>\n      <th>3</th>\n      <td>83055</td>\n      <td>2</td>\n      <td>NaN</td>\n      <td>5.0</td>\n      <td>NaN</td>\n      <td>NaN</td>\n      <td>6.0</td>\n      <td>5.0</td>\n      <td>NaN</td>\n      <td>NaN</td>\n      <td>...</td>\n      <td>2</td>\n      <td>354</td>\n      <td>1425</td>\n      <td>1413</td>\n      <td>1381</td>\n      <td>1369</td>\n      <td>1357</td>\n      <td>29</td>\n      <td>1</td>\n      <td>2018</td>\n    </tr>\n    <tr>\n      <th>4</th>\n      <td>92062</td>\n      <td>1</td>\n      <td>NaN</td>\n      <td>6.0</td>\n      <td>NaN</td>\n      <td>NaN</td>\n      <td>7.0</td>\n      <td>4.0</td>\n      <td>NaN</td>\n      <td>NaN</td>\n      <td>...</td>\n      <td>2</td>\n      <td>354</td>\n      <td>1426</td>\n      <td>1414</td>\n      <td>1381</td>\n      <td>1369</td>\n      <td>1357</td>\n      <td>29</td>\n      <td>1</td>\n      <td>2018</td>\n    </tr>\n    <tr>\n      <th>...</th>\n      <td>...</td>\n      <td>...</td>\n      <td>...</td>\n      <td>...</td>\n      <td>...</td>\n      <td>...</td>\n      <td>...</td>\n      <td>...</td>\n      <td>...</td>\n      <td>...</td>\n      <td>...</td>\n      <td>...</td>\n      <td>...</td>\n      <td>...</td>\n      <td>...</td>\n      <td>...</td>\n      <td>...</td>\n      <td>...</td>\n      <td>...</td>\n      <td>...</td>\n      <td>...</td>\n    </tr>\n    <tr>\n      <th>10210</th>\n      <td>91420</td>\n      <td>4</td>\n      <td>NaN</td>\n      <td>6.0</td>\n      <td>NaN</td>\n      <td>NaN</td>\n      <td>6.0</td>\n      <td>6.0</td>\n      <td>NaN</td>\n      <td>NaN</td>\n      <td>...</td>\n      <td>1</td>\n      <td>370</td>\n      <td>1432</td>\n      <td>1420</td>\n      <td>1393</td>\n      <td>1381</td>\n      <td>1369</td>\n      <td>31</td>\n      <td>1</td>\n      <td>2019</td>\n    </tr>\n    <tr>\n      <th>10211</th>\n      <td>89157</td>\n      <td>1</td>\n      <td>NaN</td>\n      <td>6.0</td>\n      <td>NaN</td>\n      <td>NaN</td>\n      <td>6.0</td>\n      <td>3.0</td>\n      <td>NaN</td>\n      <td>NaN</td>\n      <td>...</td>\n      <td>1</td>\n      <td>370</td>\n      <td>1433</td>\n      <td>1421</td>\n      <td>1393</td>\n      <td>1381</td>\n      <td>1369</td>\n      <td>31</td>\n      <td>1</td>\n      <td>2019</td>\n    </tr>\n    <tr>\n      <th>10212</th>\n      <td>89157</td>\n      <td>2</td>\n      <td>NaN</td>\n      <td>6.0</td>\n      <td>NaN</td>\n      <td>NaN</td>\n      <td>6.0</td>\n      <td>4.0</td>\n      <td>NaN</td>\n      <td>NaN</td>\n      <td>...</td>\n      <td>1</td>\n      <td>370</td>\n      <td>1433</td>\n      <td>1421</td>\n      <td>1393</td>\n      <td>1381</td>\n      <td>1369</td>\n      <td>31</td>\n      <td>1</td>\n      <td>2019</td>\n    </tr>\n    <tr>\n      <th>10213</th>\n      <td>89157</td>\n      <td>3</td>\n      <td>NaN</td>\n      <td>5.0</td>\n      <td>NaN</td>\n      <td>NaN</td>\n      <td>5.0</td>\n      <td>4.0</td>\n      <td>1.0</td>\n      <td>2.0</td>\n      <td>...</td>\n      <td>1</td>\n      <td>370</td>\n      <td>1433</td>\n      <td>1421</td>\n      <td>1393</td>\n      <td>1381</td>\n      <td>1369</td>\n      <td>31</td>\n      <td>1</td>\n      <td>2019</td>\n    </tr>\n    <tr>\n      <th>10214</th>\n      <td>84206</td>\n      <td>1</td>\n      <td>NaN</td>\n      <td>3.0</td>\n      <td>NaN</td>\n      <td>2.0</td>\n      <td>NaN</td>\n      <td>NaN</td>\n      <td>NaN</td>\n      <td>NaN</td>\n      <td>...</td>\n      <td>1</td>\n      <td>370</td>\n      <td>1432</td>\n      <td>1420</td>\n      <td>1393</td>\n      <td>1381</td>\n      <td>1369</td>\n      <td>31</td>\n      <td>1</td>\n      <td>2019</td>\n    </tr>\n  </tbody>\n</table>\n<p>10215 rows × 171 columns</p>\n</div>"
     },
     "execution_count": 15,
     "metadata": {},
     "output_type": "execute_result"
    }
   ],
   "source": [
    "pregnancy_data"
   ],
   "metadata": {
    "collapsed": false,
    "pycharm": {
     "name": "#%%\n"
    }
   }
  }
 ],
 "metadata": {
  "kernelspec": {
   "display_name": "Python 3",
   "language": "python",
   "name": "python3"
  },
  "language_info": {
   "codemirror_mode": {
    "name": "ipython",
    "version": 2
   },
   "file_extension": ".py",
   "mimetype": "text/x-python",
   "name": "python",
   "nbconvert_exporter": "python",
   "pygments_lexer": "ipython2",
   "version": "2.7.6"
  }
 },
 "nbformat": 4,
 "nbformat_minor": 0
}