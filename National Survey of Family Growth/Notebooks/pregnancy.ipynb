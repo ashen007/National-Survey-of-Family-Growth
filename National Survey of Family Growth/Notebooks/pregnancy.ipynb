{
 "cells": [
  {
   "cell_type": "code",
   "metadata": {
    "collapsed": true,
    "pycharm": {
     "name": "#%%\n"
    }
   },
   "source": [
    "import pandas as pd"
   ],
   "execution_count": 1,
   "outputs": []
  },
  {
   "cell_type": "markdown",
   "source": [
    "## Read data from fix width formatted file"
   ],
   "metadata": {
    "collapsed": false,
    "pycharm": {
     "name": "#%% md\n"
    }
   }
  },
  {
   "cell_type": "code",
   "execution_count": 2,
   "outputs": [
    {
     "data": {
      "text/plain": "       88819    1 6   7 4  Unnamed: 2     1  21 2        11111  Unnamed: 5  \\\n0      88819    2 5   6 4         NaN     5              15111         NaN   \n1      83055    1 5   6 4         NaN     1  11 1        11111         NaN   \n2      83055    2 5   6 5         NaN     1  11 1        15111         NaN   \n3      92062    1 6   7 4         NaN     1  31 3        11111         NaN   \n4      92062       2 2  5         NaN   NaN                 55         NaN   \n...      ...          ...         ...   ...                ...         ...   \n10209  91420    4 6   6 6         NaN     1    32 1        155         NaN   \n10210  89157    1 6   6 3         NaN     5              11111         NaN   \n10211  89157    2 6   6 4         NaN     1  41 4        15111         NaN   \n10212  89157  3 5   5 412        13.0  05 1    41 4 121345 155         NaN   \n10213  84206       1 3  2         NaN   NaN             1    1         NaN   \n\n       Unnamed: 6    2  Unnamed: 8        1   1211  Unnamed: 10  4 21  \\\n0             NaN  2.0         NaN        1   1211          NaN  3 21   \n1             NaN  2.0         NaN          1   12          NaN  4 21   \n2             NaN  2.0         NaN          1   12          NaN  3 21   \n3             NaN  2.0         NaN          1   12          NaN  3 21   \n4             1.0  2.0         NaN          1   12          NaN   223   \n...           ...  ...         ...             ...          ...   ...   \n10209        55.0  NaN         NaN         3  1111          NaN  3 21   \n10210         NaN  3.0         NaN       1211   12          NaN  2 21   \n10211         NaN  2.0         NaN          1   12          NaN  3 21   \n10212         1.0  2.0         NaN          1   12          NaN  2 21   \n10213         1.0  1.0        22.0  3 8115511 2 22          NaN   122   \n\n       120053020042912111   222222    243433416122222  2.1  \\\n0      220073220063112111   202222    243433416122222    2   \n1      120073020062912111   222222    241411116122222    2   \n2      220113420103312111   222222    241411116122222    2   \n3      120052720042712111   222222    241411116122222    3   \n4       20062820052812111     2222    241411116122222    3   \n...                            ...                ...  ...   \n10209  220114020103951555   225353    647475213103112    4   \n10210  120082720082612111   101212    137371115103242    3   \n10211  220113020112912111   142222    237371115103242    3   \n10212  320143220133212111113142222    237371115103242    3   \n10213   20182020182051656     3333  24420205614103242    1   \n\n      2126411125  0000000000000000000000000000000000000011076.61590969332354142714151381136913572912018  \n0      2126411125  0000000000000000000000000000000000...                                                 \n1      2124981325  0000000000000000000000000000000000...                                                 \n2      2124981325  0000000000000000000000000000000000...                                                 \n3      2124981125  0000000000000000000000000000000000...                                                 \n4      2124981125  0000000000000000000000000000000000...                                                 \n...                                                  ...                                                 \n10209  2212757325  0000000000000000000000000000000000...                                                 \n10210  321 907321 10000000000000000000000000000000000...                                                 \n10211  321 907321 10000000000000000000000000000000000...                                                 \n10212  321 907321 10000000000000000000000000000000000...                                                 \n10213  0123622425  0000000000000000000000000000000000...                                                 \n\n[10214 rows x 16 columns]",
      "text/html": "<div>\n<style scoped>\n    .dataframe tbody tr th:only-of-type {\n        vertical-align: middle;\n    }\n\n    .dataframe tbody tr th {\n        vertical-align: top;\n    }\n\n    .dataframe thead th {\n        text-align: right;\n    }\n</style>\n<table border=\"1\" class=\"dataframe\">\n  <thead>\n    <tr style=\"text-align: right;\">\n      <th></th>\n      <th>88819</th>\n      <th>1 6   7 4</th>\n      <th>Unnamed: 2</th>\n      <th>1</th>\n      <th>21 2        11111</th>\n      <th>Unnamed: 5</th>\n      <th>Unnamed: 6</th>\n      <th>2</th>\n      <th>Unnamed: 8</th>\n      <th>1   1211</th>\n      <th>Unnamed: 10</th>\n      <th>4 21</th>\n      <th>120053020042912111   222222</th>\n      <th>243433416122222</th>\n      <th>2.1</th>\n      <th>2126411125  0000000000000000000000000000000000000011076.61590969332354142714151381136913572912018</th>\n    </tr>\n  </thead>\n  <tbody>\n    <tr>\n      <th>0</th>\n      <td>88819</td>\n      <td>2 5   6 4</td>\n      <td>NaN</td>\n      <td>5</td>\n      <td>15111</td>\n      <td>NaN</td>\n      <td>NaN</td>\n      <td>2.0</td>\n      <td>NaN</td>\n      <td>1   1211</td>\n      <td>NaN</td>\n      <td>3 21</td>\n      <td>220073220063112111   202222</td>\n      <td>243433416122222</td>\n      <td>2</td>\n      <td>2126411125  0000000000000000000000000000000000...</td>\n    </tr>\n    <tr>\n      <th>1</th>\n      <td>83055</td>\n      <td>1 5   6 4</td>\n      <td>NaN</td>\n      <td>1</td>\n      <td>11 1        11111</td>\n      <td>NaN</td>\n      <td>NaN</td>\n      <td>2.0</td>\n      <td>NaN</td>\n      <td>1   12</td>\n      <td>NaN</td>\n      <td>4 21</td>\n      <td>120073020062912111   222222</td>\n      <td>241411116122222</td>\n      <td>2</td>\n      <td>2124981325  0000000000000000000000000000000000...</td>\n    </tr>\n    <tr>\n      <th>2</th>\n      <td>83055</td>\n      <td>2 5   6 5</td>\n      <td>NaN</td>\n      <td>1</td>\n      <td>11 1        15111</td>\n      <td>NaN</td>\n      <td>NaN</td>\n      <td>2.0</td>\n      <td>NaN</td>\n      <td>1   12</td>\n      <td>NaN</td>\n      <td>3 21</td>\n      <td>220113420103312111   222222</td>\n      <td>241411116122222</td>\n      <td>2</td>\n      <td>2124981325  0000000000000000000000000000000000...</td>\n    </tr>\n    <tr>\n      <th>3</th>\n      <td>92062</td>\n      <td>1 6   7 4</td>\n      <td>NaN</td>\n      <td>1</td>\n      <td>31 3        11111</td>\n      <td>NaN</td>\n      <td>NaN</td>\n      <td>2.0</td>\n      <td>NaN</td>\n      <td>1   12</td>\n      <td>NaN</td>\n      <td>3 21</td>\n      <td>120052720042712111   222222</td>\n      <td>241411116122222</td>\n      <td>3</td>\n      <td>2124981125  0000000000000000000000000000000000...</td>\n    </tr>\n    <tr>\n      <th>4</th>\n      <td>92062</td>\n      <td>2 2  5</td>\n      <td>NaN</td>\n      <td>NaN</td>\n      <td>55</td>\n      <td>NaN</td>\n      <td>1.0</td>\n      <td>2.0</td>\n      <td>NaN</td>\n      <td>1   12</td>\n      <td>NaN</td>\n      <td>223</td>\n      <td>20062820052812111     2222</td>\n      <td>241411116122222</td>\n      <td>3</td>\n      <td>2124981125  0000000000000000000000000000000000...</td>\n    </tr>\n    <tr>\n      <th>...</th>\n      <td>...</td>\n      <td>...</td>\n      <td>...</td>\n      <td>...</td>\n      <td>...</td>\n      <td>...</td>\n      <td>...</td>\n      <td>...</td>\n      <td>...</td>\n      <td>...</td>\n      <td>...</td>\n      <td>...</td>\n      <td>...</td>\n      <td>...</td>\n      <td>...</td>\n      <td>...</td>\n    </tr>\n    <tr>\n      <th>10209</th>\n      <td>91420</td>\n      <td>4 6   6 6</td>\n      <td>NaN</td>\n      <td>1</td>\n      <td>32 1        155</td>\n      <td>NaN</td>\n      <td>55.0</td>\n      <td>NaN</td>\n      <td>NaN</td>\n      <td>3  1111</td>\n      <td>NaN</td>\n      <td>3 21</td>\n      <td>220114020103951555   225353</td>\n      <td>647475213103112</td>\n      <td>4</td>\n      <td>2212757325  0000000000000000000000000000000000...</td>\n    </tr>\n    <tr>\n      <th>10210</th>\n      <td>89157</td>\n      <td>1 6   6 3</td>\n      <td>NaN</td>\n      <td>5</td>\n      <td>11111</td>\n      <td>NaN</td>\n      <td>NaN</td>\n      <td>3.0</td>\n      <td>NaN</td>\n      <td>1211   12</td>\n      <td>NaN</td>\n      <td>2 21</td>\n      <td>120082720082612111   101212</td>\n      <td>137371115103242</td>\n      <td>3</td>\n      <td>321 907321 10000000000000000000000000000000000...</td>\n    </tr>\n    <tr>\n      <th>10211</th>\n      <td>89157</td>\n      <td>2 6   6 4</td>\n      <td>NaN</td>\n      <td>1</td>\n      <td>41 4        15111</td>\n      <td>NaN</td>\n      <td>NaN</td>\n      <td>2.0</td>\n      <td>NaN</td>\n      <td>1   12</td>\n      <td>NaN</td>\n      <td>3 21</td>\n      <td>220113020112912111   142222</td>\n      <td>237371115103242</td>\n      <td>3</td>\n      <td>321 907321 10000000000000000000000000000000000...</td>\n    </tr>\n    <tr>\n      <th>10212</th>\n      <td>89157</td>\n      <td>3 5   5 412</td>\n      <td>13.0</td>\n      <td>05 1</td>\n      <td>41 4 121345 155</td>\n      <td>NaN</td>\n      <td>1.0</td>\n      <td>2.0</td>\n      <td>NaN</td>\n      <td>1   12</td>\n      <td>NaN</td>\n      <td>2 21</td>\n      <td>320143220133212111113142222</td>\n      <td>237371115103242</td>\n      <td>3</td>\n      <td>321 907321 10000000000000000000000000000000000...</td>\n    </tr>\n    <tr>\n      <th>10213</th>\n      <td>84206</td>\n      <td>1 3  2</td>\n      <td>NaN</td>\n      <td>NaN</td>\n      <td>1    1</td>\n      <td>NaN</td>\n      <td>1.0</td>\n      <td>1.0</td>\n      <td>22.0</td>\n      <td>3 8115511 2 22</td>\n      <td>NaN</td>\n      <td>122</td>\n      <td>20182020182051656     3333</td>\n      <td>24420205614103242</td>\n      <td>1</td>\n      <td>0123622425  0000000000000000000000000000000000...</td>\n    </tr>\n  </tbody>\n</table>\n<p>10214 rows × 16 columns</p>\n</div>"
     },
     "execution_count": 2,
     "metadata": {},
     "output_type": "execute_result"
    }
   ],
   "source": [],
   "metadata": {
    "collapsed": false,
    "pycharm": {
     "name": "#%%\n"
    }
   }
  }
 ],
 "metadata": {
  "kernelspec": {
   "display_name": "Python 3",
   "language": "python",
   "name": "python3"
  },
  "language_info": {
   "codemirror_mode": {
    "name": "ipython",
    "version": 2
   },
   "file_extension": ".py",
   "mimetype": "text/x-python",
   "name": "python",
   "nbconvert_exporter": "python",
   "pygments_lexer": "ipython2",
   "version": "2.7.6"
  }
 },
 "nbformat": 4,
 "nbformat_minor": 0
}